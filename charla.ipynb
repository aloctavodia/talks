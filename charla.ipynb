{
 "cells": [
  {
   "cell_type": "code",
   "execution_count": 1,
   "metadata": {
    "hideCode": false,
    "hidePrompt": false,
    "slideshow": {
     "slide_type": "skip"
    }
   },
   "outputs": [
    {
     "data": {
      "text/html": [
       "<style>\n",
       "\n",
       ".CodeMirror {\n",
       "    width: 100vw;\n",
       "}\n",
       "\n",
       ".container {\n",
       "    width: 99% !important;\n",
       "}\n",
       "\n",
       ".rendered_html {\n",
       "  font-size:0.8em;\n",
       "}\n",
       ".rendered_html table, .rendered_html th, .rendered_html tr, .rendered_html td {\n",
       "     font-size: 100%;\n",
       "}\n",
       "\n",
       "\n",
       "body {\n",
       "  font-family: Ubuntu;\n",
       "  background: #F0F0F0;\n",
       "  background-color: #F0F0F0;\n",
       "}\n",
       "\n",
       "\n",
       ".reveal h1,\n",
       ".reveal h2,\n",
       ".reveal h3,\n",
       ".reveal h4,\n",
       ".reveal h5,\n",
       ".reveal h6 {\n",
       "  margin: 0 0 20px 0;\n",
       "  color: #2a2eec;\n",
       "  font-family: Ubuntu;\n",
       "  line-height: 0.9em;\n",
       "  letter-spacing: 0.02em;\n",
       "  text-transform: none;\n",
       "  text-shadow: none;\n",
       "}\n",
       "\n",
       ".reveal blockquote {\n",
       "  display: block;\n",
       "  position: relative;\n",
       "  background: #fa7c17;\n",
       "  border-radius: 15px;\n",
       "  box-shadow: 0px 0px 2px rgba(0, 0, 0, 0.2); }\n",
       "\n",
       "</style>\n"
      ],
      "text/plain": [
       "<IPython.core.display.HTML object>"
      ]
     },
     "metadata": {},
     "output_type": "display_data"
    }
   ],
   "source": [
    "%%HTML\n",
    "<style>\n",
    "\n",
    ".CodeMirror {\n",
    "    width: 100vw;\n",
    "}\n",
    "\n",
    ".container {\n",
    "    width: 99% !important;\n",
    "}\n",
    "\n",
    ".rendered_html {\n",
    "  font-size:0.8em;\n",
    "}\n",
    ".rendered_html table, .rendered_html th, .rendered_html tr, .rendered_html td {\n",
    "     font-size: 100%;\n",
    "}\n",
    "\n",
    "\n",
    "body {\n",
    "  font-family: Ubuntu;\n",
    "  background: #F0F0F0;\n",
    "  background-color: #F0F0F0;\n",
    "}\n",
    "\n",
    "\n",
    ".reveal h1,\n",
    ".reveal h2,\n",
    ".reveal h3,\n",
    ".reveal h4,\n",
    ".reveal h5,\n",
    ".reveal h6 {\n",
    "  margin: 0 0 20px 0;\n",
    "  color: #2a2eec;\n",
    "  font-family: Ubuntu;\n",
    "  line-height: 0.9em;\n",
    "  letter-spacing: 0.02em;\n",
    "  text-transform: none;\n",
    "  text-shadow: none;\n",
    "}\n",
    "\n",
    ".reveal blockquote {\n",
    "  display: block;\n",
    "  position: relative;\n",
    "  background: #fa7c17;\n",
    "  border-radius: 15px;\n",
    "  box-shadow: 0px 0px 2px rgba(0, 0, 0, 0.2); }\n",
    "\n",
    "</style>"
   ]
  },
  {
   "cell_type": "code",
   "execution_count": 2,
   "metadata": {
    "hideCode": false,
    "hidePrompt": false,
    "slideshow": {
     "slide_type": "skip"
    }
   },
   "outputs": [],
   "source": [
    "from traitlets.config.manager import BaseJSONConfigManager\n",
    "path = \"/home/osvaldo/anaconda3/etc/jupyter/nbconfig\"\n",
    "cm = BaseJSONConfigManager(config_dir=path)\n",
    "cm.update(\"livereveal\", {\n",
    "              \"theme\": \"serif\",\n",
    "              \"transition\": \"zoom\",\n",
    "              \"start_slideshow_at\": \"selected\",\n",
    "              \"controls\": \"True\",\n",
    "              \"progress\": \"False\",\n",
    "              \"shortcut\": \"False\",});\n"
   ]
  },
  {
   "cell_type": "markdown",
   "metadata": {
    "hideCode": false,
    "hidePrompt": false,
    "slideshow": {
     "slide_type": "slide"
    }
   },
   "source": [
    "<center><img src=\"img/logo_inst.png\" width=\"700\"></center>\n",
    "<br>\n",
    "\n",
    "<h1 align=\"center\">All about that Bayes</h1>\n",
    "\n",
    "<br>\n",
    "<br>\n",
    "\n",
    "<center>\n",
    "<img src=\"img/QR.png\" width=\"200\">\n",
    "</center>\n",
    "\n",
    "<br>\n",
    "\n",
    "<center>\n",
    "Tucumán, marzo 2020\n",
    "</center>"
   ]
  },
  {
   "cell_type": "markdown",
   "metadata": {
    "slideshow": {
     "slide_type": "slide"
    }
   },
   "source": [
    "## About Me\n",
    "\n",
    "<br>\n",
    "\n",
    "* I am a reseacher at CONICET\n",
    " \n",
    " \n",
    "* Molecular biologist by training, I used to work on problems in biophysics and structural bioinformatics\n",
    "\n",
    "\n",
    "* I work on the development and implementation of software tools for Bayesian statistics and probabilistic modeling\n",
    "\n",
    "\n",
    "* I colaborate with 3 Python open source projects [ArviZ](https://arviz-devs.github.io/arviz/), \n",
    "[Bambi](https://bambinos.github.io/bambi/) and [PyMC3](https://docs.pymc.io/)\n",
    "\n",
    "<br>\n",
    "\n",
    "\n",
    "https://aloctavodia.github.io/"
   ]
  },
  {
   "cell_type": "markdown",
   "metadata": {
    "slideshow": {
     "slide_type": "slide"
    }
   },
   "source": [
    "## Bayesian Statistics\n",
    "\n",
    "\n",
    "<img src=\"img/IMG_20200212_065526.jpg\" width=\"400\">\n",
    "<img src=\"img/owl.png\" width=\"900\">"
   ]
  },
  {
   "cell_type": "markdown",
   "metadata": {
    "slideshow": {
     "slide_type": "slide"
    }
   },
   "source": [
    "## Statistics is about computing p-values < 0.05 and following diagrams:\n",
    "\n",
    "<img src=\"img/flowchart.png\" width=\"500\">\n",
    "\n",
    "Well, not really! But this is generally what we learn at Schools/Universities and daily scientific practice."
   ]
  },
  {
   "cell_type": "markdown",
   "metadata": {
    "slideshow": {
     "slide_type": "slide"
    }
   },
   "source": [
    "## Bayesian Statistics\n",
    "\n",
    "<br>\n",
    "\n",
    "* Bayesian statistics is about uncertainty --> like every other statistical approach  ¯\\\\_(ツ)_/¯\n",
    "\n",
    "\n",
    "* Bayesian statistics is a form of modelling --> Let's call it probabilistic modeling!\n",
    "\n",
    "\n",
    "* Probability models generate data --> we then *invert* the model to get the parameters from data\n",
    "\n",
    "\n",
    "<br>\n",
    "\n"
   ]
  },
  {
   "cell_type": "markdown",
   "metadata": {
    "slideshow": {
     "slide_type": "slide"
    }
   },
   "source": [
    "## Bayesian Data Analysis\n",
    "\n",
    "<br>\n",
    "<br>\n",
    "\n",
    "> We could call Bayesian data analysis “statistics using conditional probability”, but that\n",
    "wouldn’t put the butts in the seats. Andrew Gelman.\n",
    "\n",
    "\n",
    "<br>\n",
    "<br>"
   ]
  },
  {
   "cell_type": "markdown",
   "metadata": {
    "hideCode": false,
    "hidePrompt": false,
    "slideshow": {
     "slide_type": "slide"
    }
   },
   "source": [
    "## Bayesian statistics*\n",
    "\n",
    "<center>\n",
    "<img src=\"img/probabilistic_modelling.png\" width=\"600\">\n",
    "\n",
    "\n",
    "\\* AKA Probabilistic modeling, Bayesian modeling, probabilistic machine learning ..."
   ]
  },
  {
   "cell_type": "markdown",
   "metadata": {
    "slideshow": {
     "slide_type": "slide"
    }
   },
   "source": [
    "## The Posterior\n",
    "\n",
    "<br>\n",
    "\n",
    "* A posterior it is the central quantity of Bayesian stastics\n",
    "\n",
    "\n",
    "* It is the logical consequence of the model and data (platonic world)\n",
    "\n",
    "\n",
    "* By integrating over the posterior we get quantities of interest from it:\n",
    "    * Mean, credible intervals, quantiles\n",
    "    * Predictions\n",
    "    * Get rid of nuisance parameters\n",
    "        \n",
    "<br>\n",
    "<br>"
   ]
  },
  {
   "cell_type": "markdown",
   "metadata": {
    "slideshow": {
     "slide_type": "slide"
    }
   },
   "source": [
    "## Why I like the  \"statistics is a form of modeling\" motto?\n",
    "\n",
    "<br>\n",
    "\n",
    "* Models are tools to help us undestand stuff, not mathemagical decision making tools\n",
    "\n",
    "\n",
    "* Modeling is more about suitability than about Truth --> *Scientific fictions*¹ can be useful\n",
    "\n",
    "\n",
    "* It is OK to play with models, change them, adapt them reuse them, make them simpler or complex, etc\n",
    "\n",
    "<br>\n",
    "\n",
    "¹[Science in the Age of Computer Simulation](https://www.press.uchicago.edu/ucp/books/book/chicago/S/bo9003670.html)"
   ]
  },
  {
   "cell_type": "markdown",
   "metadata": {
    "hideCode": false,
    "hidePrompt": false,
    "slideshow": {
     "slide_type": "slide"
    }
   },
   "source": [
    "## A Gaussian Model\n",
    "\n",
    "<br>\n",
    "<br>\n",
    "\n",
    "<center>\n",
    "<img src=\"img/Bayesian_stats.png\" width=\"800\">"
   ]
  },
  {
   "cell_type": "markdown",
   "metadata": {
    "slideshow": {
     "slide_type": "slide"
    }
   },
   "source": [
    "## Why we want to model something in a Bayesian way?\n",
    "\n",
    "<br>\n",
    "\n",
    "* <font color = \"#505050\">is the *correct way* (platonic world and pedantic answer)</font>\n",
    "\n",
    "\n",
    "* is useful and flexible approach (real world)\n",
    "    * uncertainty propagation\n",
    "    * data efficiency\n",
    "        * a principled way to incorporate domain-knowledge\n",
    "        * from integration instead of optimization\n",
    "    * a unified and _simple_ conceptual framework $\\implies$ practical flexibility to create custom models\n",
    "\n",
    "<br>\n",
    "    \n",
    "[Bayesian Deep Learning and a Probabilistic Perspective of Generalization](https://arxiv.org/abs/2002.08791)"
   ]
  },
  {
   "cell_type": "markdown",
   "metadata": {
    "slideshow": {
     "slide_type": "slide"
    }
   },
   "source": [
    "## A unified conceptual framework: Linear models as a common example\n",
    "\n",
    "<br>\n",
    "\n",
    "The _usual_ way\n",
    "\n",
    "$$y_i = \\beta_0 + \\beta_1 x_i + \\dots + \\beta_m x_m = \\underbrace{\\mathbf{X} \\; \\mathit{\\beta}}_{\\text{matrix notation}}$$\n",
    "\n",
    "<br>\n",
    "\n",
    "* Generally the $\\beta_s$ coefficients are estimated using ordinary least squares\n",
    "* The result is a point-estimate, the _best_ line fitting the data\n",
    "\n",
    "<br>"
   ]
  },
  {
   "cell_type": "markdown",
   "metadata": {
    "slideshow": {
     "slide_type": "slide"
    }
   },
   "source": [
    "## A probabilisitc linear model\n",
    "\n",
    "<br>\n",
    "\n",
    "$$\\mu = \\mathbf{X} \\mathit{\\beta} $$\n",
    "\n",
    "$$\\mathit{Y} \\sim \\mathop{N}(\\mu, \\sigma)$$\n",
    "\n",
    "<br>\n",
    "\n",
    "* As we do not know the values of the $\\mathit{\\beta}$ vector or $\\sigma$ we have to set priors\n",
    "\n",
    "\n",
    "* If we take the full Bayesian way we will get a distributions of plausible parameters --> a distribution of lines! \n",
    "\n",
    "\n",
    "* If the priors are _flat_ the most probable values for the parameters will be the same as for ordinary least squares\n",
    "\n",
    "\n",
    "* If the priors are _Gaussian_ this is equivalent to ridge-regression (a regularizing method --> a way to reduce overfitting)"
   ]
  },
  {
   "cell_type": "markdown",
   "metadata": {
    "hideCode": false,
    "hidePrompt": false,
    "slideshow": {
     "slide_type": "slide"
    }
   },
   "source": [
    "## Generalized linear models\n",
    "<br>\n",
    "Student-t regression (robust to outliers)\n",
    "\n",
    "$$\\mu = \\mathbf{X} \\mathit{\\beta} $$\n",
    "$$\\mathit{Y} \\sim \\mathop{T}(\\mu, \\sigma, \\nu)$$\n",
    "\n",
    "Logistic regression (binary outcomes)\n",
    "\n",
    "$$\\mu = logistic(\\mathbf{X} \\mathit{\\beta})$$\n",
    "$$\\mathit{Y} \\sim \\mathop{Bin}(\\mu)$$\n",
    "\n",
    "Poisson regression (count outcomes)\n",
    "\n",
    "$$\\mu = exp(\\mathbf{X} \\mathit{\\beta})$$\n",
    "$$\\mathit{Y} \\sim \\mathop{Poisson}(\\mu)$$\n",
    "\n",
    "Whatever regression ¯\\\\_(ツ)_/¯\n",
    "\n",
    "$$\\mu = f(\\mathbf{X} \\mathit{\\beta})$$\n",
    "$$\\mathit{Y} \\sim \\mathop{\\phi}(\\mu, \\theta)$$\n",
    "\n"
   ]
  },
  {
   "cell_type": "markdown",
   "metadata": {
    "slideshow": {
     "slide_type": "slide"
    }
   },
   "source": [
    "## Generalized additive models \n",
    "\n",
    "<br>\n",
    "<br>\n",
    "\n",
    "$$\\mu = \\sum_j^m g_j(X)$$\n",
    "\n",
    "$$y \\sim \\mathop{\\phi}(\\mu, \\theta)$$\n",
    "\n",
    "<br>\n",
    "\n",
    "where $g$ can be, splines, trees, etc\n",
    "\n",
    "\n",
    "\n",
    "<br>"
   ]
  },
  {
   "cell_type": "markdown",
   "metadata": {
    "slideshow": {
     "slide_type": "slide"
    }
   },
   "source": [
    "## Either this is madness or it is Hell¹ \n",
    "\n",
    "<br>\n",
    "<center>\n",
    "<img src=\"img/dimensiones.png\" width=\"800\">\n",
    "    \n",
    "¹[Flatland: A Romance of Many Dimensions](http://www.gutenberg.org/ebooks/97)"
   ]
  },
  {
   "cell_type": "markdown",
   "metadata": {
    "slideshow": {
     "slide_type": "slide"
    }
   },
   "source": [
    "<center>\n",
    "<img src=\"img/distancia_a_la_moda.png\" width=\"800\">"
   ]
  },
  {
   "cell_type": "markdown",
   "metadata": {
    "hideCode": false,
    "hidePrompt": false,
    "slideshow": {
     "slide_type": "slide"
    }
   },
   "source": [
    "##  Probabilistic Programming\n",
    "\n",
    "<br>\n",
    "<br>\n",
    "\n",
    "* A probabilistic programming language is a programming language designed to **describe probabilistic models** and then **perform inference** over those models\n",
    "\n",
    "\n",
    "* The promise: **clear separation of modeling and inference**. Practitioners should focus on modeling, not _computational or mathematical details_\n",
    "\n",
    "<br>\n",
    "<br>"
   ]
  },
  {
   "cell_type": "markdown",
   "metadata": {
    "slideshow": {
     "slide_type": "slide"
    }
   },
   "source": [
    "## The two cultures and the probabilistic programming plane (Work in progress)\n",
    "\n",
    "<br>\n",
    "\n",
    "<center><img src=\"img/ppl_plane.png\" width=500></center>\n",
    "\n",
    "\n",
    "* Do not take too serious..."
   ]
  },
  {
   "cell_type": "markdown",
   "metadata": {
    "slideshow": {
     "slide_type": "slide"
    }
   },
   "source": [
    "##  Closing the gap\n",
    "\n",
    "<br>\n",
    "\n",
    "* Contribute to re-design how we teach and use statistical methods\n",
    "    * In many ways, modern Bayesian statistics is closer to Data Science than to \"classical statistics\"\n",
    "\n",
    "\n",
    "* Combine ideas and practices from statistical culture and machine learning culture\n",
    "    * Both cultures have important things to contribute we just need more communication and tools that make the differences even more diffuse\n",
    "\n",
    "\n",
    "* In order to close the gap **we need more _fancy stuff_**\n",
    "    * Efficient and accurate model-agnostic Bayesian inference algorithms\n",
    "    * High-Quality software\n",
    "    * An iterative Bayesian workflow including model building and model verification (numerical and visual tools)\n",
    "\n",
    "<br>\n",
    "<br>\n",
    "\n",
    "[Machine Learning and Statistics: Don't Mind the Gap.](https://www.youtube.com/watch?v=KWXMDycs9HQ)"
   ]
  },
  {
   "cell_type": "markdown",
   "metadata": {
    "hideCode": false,
    "hidePrompt": false,
    "slideshow": {
     "slide_type": "slide"
    }
   },
   "source": [
    "## PyMC3: Probabilistic programming with Python\n",
    "<br>\n",
    "\n",
    "<center><img src=\"img/PyMC3_banner.svg\" width=200></center>\n",
    "\n",
    "* Model building\n",
    "    * A large collections of probability distributions\n",
    "    * A clear and powerful syntax\n",
    "    * Integration with the PyData-stack\n",
    "\n",
    "* Inference\n",
    "    * Markov Chain Monte Carlo (NUTS, MH)\n",
    "    * Sequential Monte Carlo (SMC, SMC-ABC)\n",
    "    * Variational Inference\n",
    "\n",
    "* Computational backend\n",
    "    * Theano --> Speed, automatic differenciation, mathematical optimizations, GPU Support\n",
    "    * PyMC4 --> [Tensorflow Probability](https://medium.com/@pymc_devs/theano-tensorflow-and-the-future-of-pymc-6c9987bb19d5)"
   ]
  },
  {
   "cell_type": "markdown",
   "metadata": {
    "slideshow": {
     "slide_type": "slide"
    }
   },
   "source": [
    "## A Gaussian Model with PyMC3\n",
    "\n",
    "<br>\n",
    "<br>\n",
    "\n",
    "```python\n",
    "with pm.Model() as model:\n",
    "    μ = pm.Normal('μ', 0, 10)  # Prior\n",
    "    σ = pm.HalfNormal('σ', 25)  # Prior\n",
    "    y_obs = pm.Normal('y_obs', μ, σ, observed=y)  # Likelihood\n",
    "    \n",
    "    trace = pm.sample(1000)   # Inference engine\n",
    "```\n",
    "<br>\n",
    "<br>"
   ]
  },
  {
   "cell_type": "markdown",
   "metadata": {
    "slideshow": {
     "slide_type": "slide"
    }
   },
   "source": [
    "## A Bayesian linear model with PyMC3\n",
    "\n",
    "<br>\n",
    "<br>\n",
    "\n",
    "```python\n",
    "with pm.Model() as model_l:\n",
    "    β = pm.Normal('β', 0, 10, shape=n)  # Prior\n",
    "    σ = pm.HalfNormal('σ', 25)  # Prior\n",
    "    μ = pm.math.dot(β, X)  # linear model\n",
    "    y = pm.Normal('y', μ, σ, observed=y)  # Likelihood\n",
    "    \n",
    "    trace_l = pm.sample(1000)  # inference engine\n",
    "```\n",
    "\n",
    "<br>\n",
    "<br>"
   ]
  },
  {
   "cell_type": "markdown",
   "metadata": {
    "hideCode": false,
    "hidePrompt": false,
    "slideshow": {
     "slide_type": "slide"
    }
   },
   "source": [
    "## ArviZ: Exploratory analysis of Bayesian models\n",
    "\n",
    "<br>\n",
    "<br>\n",
    "<center><img src=\"img/logo_arviz.png\" width=400></center>\n",
    "<br>\n",
    "\n",
    "\n",
    "* Diagnoses of the quality of the inference\n",
    "* Model criticism, including evaluations of both model assumptions and model predictions\n",
    "* Comparison of models, including model selection or model averaging\n",
    "* Preparation of the results for a particular audience\n",
    "\n",
    "* Works with PyMC3, [PyStan](https://pystan.readthedocs.io/en/latest/), [Pyro](https://pyro.ai/), [emcee](https://emcee.readthedocs.io/en/v2.2.1/), [TensorFlow probability](https://www.tensorflow.org/probability)...\n",
    "* Offers a unified data structure _InferenceData_ based on [xarray](http://xarray.pydata.org/en/stable/)"
   ]
  },
  {
   "cell_type": "markdown",
   "metadata": {
    "slideshow": {
     "slide_type": "slide"
    }
   },
   "source": [
    "## Bambi: BAyesian Model-Building Interface in Python\n",
    "\n",
    "<br>\n",
    "<br>\n",
    "<br>\n",
    "<br>\n",
    "<center>INSERT LOGO HERE</center>\n",
    "<br>\n",
    "<br>\n",
    "\n",
    "\n",
    "\n",
    "* A high-level Bayesian model-building interface written in Python\n",
    "* Use PyMC3 and PyStan as backend\n",
    "* Use ArviZ for diagnostics and ploting\n",
    "\n",
    "<br>"
   ]
  },
  {
   "cell_type": "markdown",
   "metadata": {
    "hideCode": false,
    "hidePrompt": false,
    "slideshow": {
     "slide_type": "slide"
    }
   },
   "source": [
    "<br>\n",
    "\n",
    "<center><img src=\"img/libros.png\" width=1500></center>\n",
    "<br>\n",
    "\n",
    "* [PyMC3 Resources](https://github.com/pymc-devs/resources)\n",
    "\n",
    "* [Modelado_Bayesiano](https://github.com/aloctavodia/Modelado_Bayesiano)\n",
    "\n",
    "* [Learning Bayesian Statistics](https://www.youtube.com/channel/UCAwVseuhVrpJFfik_cMHrhQ)"
   ]
  },
  {
   "cell_type": "markdown",
   "metadata": {
    "hideCode": false,
    "hidePrompt": false,
    "slideshow": {
     "slide_type": "slide"
    }
   },
   "source": [
    "<br>\n",
    "<center><img src=\"img/thanks.gif\" width=400></center>\n",
    "<br>\n",
    "<br>\n",
    "<br>\n",
    "<br>\n",
    "<br>\n",
    "Image Markov Chain Monte Carlo https://github.com/ColCarroll/imcmc"
   ]
  }
 ],
 "metadata": {
  "celltoolbar": "Slideshow",
  "hide_code_all_hidden": false,
  "hide_input": false,
  "kernelspec": {
   "display_name": "Python 3",
   "language": "python",
   "name": "python3"
  },
  "language_info": {
   "codemirror_mode": {
    "name": "ipython",
    "version": 3
   },
   "file_extension": ".py",
   "mimetype": "text/x-python",
   "name": "python",
   "nbconvert_exporter": "python",
   "pygments_lexer": "ipython3",
   "version": "3.7.6"
  }
 },
 "nbformat": 4,
 "nbformat_minor": 2
}
